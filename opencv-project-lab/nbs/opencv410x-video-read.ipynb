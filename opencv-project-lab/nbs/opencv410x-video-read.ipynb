{
 "cells": [
  {
   "cell_type": "markdown",
   "metadata": {},
   "source": [
    "# Comparisson of [Nvidia Video Codec SDK ](https://developer.nvidia.com/nvidia-video-codec-sdk) with CPU and iGPU ([Quick Sync](https://en.wikipedia.org/wiki/Intel_Quick_Sync_Video)) decoding using OpenCV 4.1.x with python"
   ]
  },
  {
   "cell_type": "markdown",
   "metadata": {},
   "source": [
    "To run the notebook download modified binary [here](https://mega.nz/#!SAwCWY7D!Av4-wPjAkm6rlANWfJbp1R8HlahueT56bhJSAhvSN18).\n",
    "\n",
    "Notes: \n",
    "1. Will not work correctly with OpenCV 4.1.0 because:\n",
    "    - The python bindings do not work correctly, manually modified pyopencv_generated_types.h to enable cv.cudacodec.createVideoReadernextFrame() to work.\n",
    "    - HENC not enabled for Nvidia decoder.\n",
    "    - Quick Sync can load software decoder if more than one device is present (multiple GPU's, Nvidia Optimus etc.)\n",
    "2. cv.cudacodec.createVideoReadernextFrame() returns before the end of the video file\n",
    "3. CPU decoding supports far more codecs than the GPU, additionally GPU codec support depends on the GPU generation, see NVDEC_VideoDecoder_API_ProgGuide.pdf in the [NVidia Video Codec SDK documentation](https://developer.nvidia.com/nvidia-video-codec-sdk) for details."
   ]
  },
  {
   "cell_type": "markdown",
   "metadata": {},
   "source": [
    "## Init"
   ]
  },
  {
   "cell_type": "code",
   "execution_count": 2,
   "metadata": {},
   "outputs": [],
   "source": [
    "#export\n",
    "import os\n",
    "import time\n",
    "import numpy as np\n",
    "from functools import partial\n",
    "import matplotlib.pyplot as plt\n",
    "import cv2 as cv\n",
    "import pandas as pd"
   ]
  },
  {
   "cell_type": "code",
   "execution_count": 15,
   "metadata": {},
   "outputs": [],
   "source": [
    "#export\n",
    "# globals\n",
    "#vid_path = os.environ['OPENCV_TEST_DATA_PATH'] + '/cv/video/768x576.avi'\n",
    "#vid_path = os.environ['OPENCV_TEST_DATA_PATH'] + '/cv/video/1920x1080.avi'\n",
    "#vid_path = 'rtsp://192.168.1.2/mediafile.264'\n",
    "\n",
    "# test files from http://jell.yfish.us/\n",
    "vid_path = os.environ['USERPROFILE'] + '/Videos/jellyfish-120-mbps-4k-uhd-h264.mkv'\n",
    "#vid_path = os.environ['USERPROFILE'] + '/Videos/jellyfish-120-mbps-4k-uhd-hevc-10bit.mkv'\n",
    "\n",
    "check_res = False"
   ]
  },
  {
   "cell_type": "code",
   "execution_count": 3,
   "metadata": {},
   "outputs": [],
   "source": [
    "def CheckFrames(f1,f2,epsilon = -1,rows = -1,cols = -1,channels = -1):\n",
    "    assert len(f1) > 0 and len(f1) == len(f2), f'f1 length {len(f1)}, f2 length {len(f2)}'    \n",
    "    epsilon = 0 if epsilon == -1 else epsilon\n",
    "    rows = f1[0].shape[0] if rows == -1 else rows\n",
    "    cols = f1[0].shape[1] if cols == -1 else cols\n",
    "    channels = f1[0].shape[2] if channels == -1 and len(f1[0].shape) == 3  else channels    \n",
    "    for i in range(0,len(f1)):\n",
    "        assert np.sum(f1[i][:rows,:cols,:channels] != f2[i][:rows,:cols,:channels]) <= epsilon, f'frame {i} different'"
   ]
  },
  {
   "cell_type": "code",
   "execution_count": 4,
   "metadata": {},
   "outputs": [],
   "source": [
    "%matplotlib inline"
   ]
  },
  {
   "cell_type": "code",
   "execution_count": 5,
   "metadata": {},
   "outputs": [],
   "source": [
    "#export\n",
    "def ProcVid0(cap):\n",
    "    n_frames, start, end  = 0,0,0\n",
    "    if (cap.IsOpen()== False): # replace with catch\n",
    "        print(\"Error opening video stream or file\")\n",
    "        return\n",
    "    frames_available = True\n",
    "    start = time.time()    \n",
    "    while(cap.IsOpen()):\n",
    "        ret,_ = cap.GetFrame()\n",
    "        if(ret):\n",
    "            n_frames += 1 \n",
    "    end = time.time()\n",
    "    return (end - start)*1000/n_frames, n_frames;"
   ]
  },
  {
   "cell_type": "code",
   "execution_count": 6,
   "metadata": {},
   "outputs": [],
   "source": [
    "#export\n",
    "# host mem not implemented, manually pin memory\n",
    "class PinnedMem(object):\n",
    "    def __init__(self, size, dtype=np.uint8):\n",
    "        self.array = np.empty(size,dtype)\n",
    "        cv.cuda.registerPageLocked(self.array)\n",
    "        self.pinned = True\n",
    "    def __del__(self):\n",
    "        cv.cuda.unregisterPageLocked(self.array)\n",
    "        self.pinned = False\n",
    "    def __repr__(self):\n",
    "        return f'pinned = {self.pinned}'"
   ]
  },
  {
   "cell_type": "code",
   "execution_count": 26,
   "metadata": {},
   "outputs": [],
   "source": [
    "#export\n",
    "class VidCap:\n",
    "    def __init__(self,vid_path,max_frames = -1,store_res = False):\n",
    "        self.vid_path = vid_path\n",
    "        self.store_res = store_res\n",
    "        self.res = []\n",
    "        self.frame_num = 0\n",
    "        self.open = False\n",
    "        cap = cv.VideoCapture(vid_path)\n",
    "        assert cap.isOpened(), f\"{vid_path}: cannot be opened!\"\n",
    "        self.num_frames = cap.get(cv.CAP_PROP_FRAME_COUNT)\n",
    "        self.max_frames = self.num_frames if max_frames == -1 else max_frames\n",
    "        ret, frame = cap.read()\n",
    "        cap.release()\n",
    "        self.rows,self.cols,self.channels = frame.shape\n",
    "    \n",
    "    def UpdateState(self,ret): \n",
    "        if (not ret or self.frame_num+1 == self.max_frames): \n",
    "            self.open = False            \n",
    "        if(ret or self.frame_num+1 == self.max_frames):\n",
    "            self.frame_num += 1\n",
    "        \n",
    "    def IsOpen(self): return self.open\n",
    "        \n",
    "class CudaCap(VidCap):\n",
    "    def __init__(self,vid_path,max_frames=-1, store_res=False):\n",
    "        VidCap.__init__(self, vid_path, max_frames, store_res)\n",
    "        # cudacodec always returns 4 channels - check grey video\n",
    "        self.channels = 4\n",
    "        # cudacodec seems to need rows/16\n",
    "        self.rows = (np.ceil(self.rows/16)*16).astype(int)\n",
    "        self.cap = cv.cudacodec.createVideoReader(self.vid_path)\n",
    "        self.open = True\n",
    "        self.frame_device = cv.cuda_GpuMat(self.rows,self.cols,cv.CV_8UC4)\n",
    "        self.frame_host = PinnedMem((self.rows,self.cols,self.channels))\n",
    "            \n",
    "    def GetFrame(self):\n",
    "        if(self.store_res):\n",
    "            ret,_ = self.GetHostFrame()\n",
    "            if(ret):\n",
    "                self.res.append(np.copy(self.frame_host.array))\n",
    "            return ret,self.frame_device\n",
    "        else:\n",
    "            return self.GetDeviceFrame()\n",
    "            \n",
    "    def GetDeviceFrame(self):\n",
    "        ret,_ = self.cap.nextFrame(self.frame_device)\n",
    "        self.UpdateState(ret)\n",
    "        return ret,self.frame_device\n",
    "        \n",
    "    def GetHostFrame(self):\n",
    "        ret,_ = self.GetDeviceFrame()\n",
    "        if(ret):\n",
    "            self.frame_device.download(self.frame_host.array)\n",
    "        return ret,self.frame_host.array\n",
    "    \n",
    "class CudaCapNpa(CudaCap):\n",
    "    def __init__(self,vid_path,max_frames=-1,store_res=False):\n",
    "        CudaCap.__init__(self, vid_path, max_frames, store_res)\n",
    "            \n",
    "    def GetDeviceFrame(self):        \n",
    "        ret,self.frame_device = self.cap.nextFrame()\n",
    "        self.UpdateState(ret)\n",
    "        return ret,self.frame_device\n",
    "    \n",
    "class CpuCap(VidCap):\n",
    "    def __init__(self,vid_path,max_frames=-1,store_res=False,backend=cv.CAP_ANY):\n",
    "        VidCap.__init__(self, vid_path, max_frames, store_res)      \n",
    "\n",
    "        self.cap = cv.VideoCapture(self.vid_path,backend)\n",
    "        assert self.cap.isOpened(), f\"{vid_path}: cannot be opened for backend: {backend}!\"\n",
    "        #if self.cap.isOpened():\n",
    "        self.open = True\n",
    "        self.frame = np.empty((self.rows,self.cols,self.channels),np.uint8)\n",
    "            \n",
    "    def GetFrame(self):\n",
    "        ret,_ = self.cap.read(self.frame)\n",
    "        self.UpdateState(ret)\n",
    "        if (ret):\n",
    "            if(self.store_res):\n",
    "                self.res.append(np.copy(self.frame))\n",
    "        return ret,self.frame\n",
    "                \n",
    "    def __del__(self):\n",
    "        self.cap.release()\n",
    "        \n",
    "class CpuCapNpa(CpuCap):\n",
    "    def __init__(self,vid_path,max_frames=-1,store_res=False,backend=cv.CAP_ANY):\n",
    "        CpuCap.__init__(self, vid_path, max_frames, store_res,backend)      \n",
    "            \n",
    "    def GetFrame(self):\n",
    "        ret,self.frame = self.cap.read()\n",
    "        self.UpdateState(ret)\n",
    "        if (ret):\n",
    "            if(self.store_res):\n",
    "                self.res.append(np.copy(self.frame))\n",
    "        return ret,self.frame\n",
    "    "
   ]
  },
  {
   "cell_type": "markdown",
   "metadata": {},
   "source": [
    "<a id=\"cpu\"></a>"
   ]
  },
  {
   "cell_type": "markdown",
   "metadata": {},
   "source": [
    "## CPU"
   ]
  },
  {
   "cell_type": "code",
   "execution_count": 8,
   "metadata": {},
   "outputs": [
    {
     "name": "stdout",
     "output_type": "stream",
     "text": [
      "CPU 0 (no pre alloc): 900 frames, 39.39 ms/frame\n"
     ]
    }
   ],
   "source": [
    "#export\n",
    "cpu_cap_npa = CpuCapNpa(vid_path,-1,check_res)\n",
    "cpu_time_0,n_frames = ProcVid0(cpu_cap_npa)\n",
    "print(f'CPU 0 (no pre alloc): {n_frames} frames, {cpu_time_0:.2f} ms/frame')"
   ]
  },
  {
   "cell_type": "code",
   "execution_count": 9,
   "metadata": {},
   "outputs": [
    {
     "name": "stdout",
     "output_type": "stream",
     "text": [
      "CPU 1: 900 frames, 23.99 ms/frame\n"
     ]
    }
   ],
   "source": [
    "#export\n",
    "cpu_cap = CpuCap(vid_path,-1,check_res)\n",
    "cpu_time_1,n_frames = ProcVid0(cpu_cap)\n",
    "print(f'CPU 1: {n_frames} frames, {cpu_time_1:.2f} ms/frame')"
   ]
  },
  {
   "cell_type": "code",
   "execution_count": 10,
   "metadata": {},
   "outputs": [],
   "source": [
    "if(check_res):\n",
    "    CheckFrames(cpu_cap.res,cpu_cap_npa.res)"
   ]
  },
  {
   "cell_type": "markdown",
   "metadata": {},
   "source": [
    "<a id=\"cpu_quicksync\"></a>"
   ]
  },
  {
   "cell_type": "markdown",
   "metadata": {},
   "source": [
    "## CPU - Quicksync"
   ]
  },
  {
   "cell_type": "markdown",
   "metadata": {},
   "source": [
    "If this implementation is slower than the default, software decoding is probably taking place.\n",
    "\n",
    "To confirm hardware decoding in windows 10 check Video Decode window in the GPU pane of the task manager for activity as below. \n",
    "\n",
    "To fix check drivers, OpenCv version etc. "
   ]
  },
  {
   "cell_type": "markdown",
   "metadata": {},
   "source": [
    "![title](imgs/quicksync.PNG)"
   ]
  },
  {
   "cell_type": "code",
   "execution_count": 35,
   "metadata": {},
   "outputs": [],
   "source": [
    "#export\n",
    "vid_path_h264 = os.environ['USERPROFILE'] + '/Videos/jellyfish-120-mbps-4k-uhd-h264.h264'"
   ]
  },
  {
   "cell_type": "code",
   "execution_count": 31,
   "metadata": {},
   "outputs": [
    {
     "name": "stdout",
     "output_type": "stream",
     "text": [
      "CPU Quick Sync (no pre alloc): 900 frames, 14.73 ms/frame\n"
     ]
    }
   ],
   "source": [
    "#export\n",
    "cpu_cap_mfx_npa = CpuCapNpa(vid_path_h264,-1,check_res,cv.CAP_INTEL_MFX)\n",
    "cpu_time_mfx_0,n_frames = ProcVid0(cpu_cap_mfx_npa)\n",
    "print(f'CPU Quick Sync (no pre alloc): {n_frames} frames, {cpu_time_mfx_0:.2f} ms/frame')"
   ]
  },
  {
   "cell_type": "code",
   "execution_count": 33,
   "metadata": {},
   "outputs": [
    {
     "name": "stdout",
     "output_type": "stream",
     "text": [
      "CPU Quick Sync (no pre alloc): 900 frames, 9.27 ms/frame\n"
     ]
    }
   ],
   "source": [
    "#export\n",
    "cpu_cap_mfx = CpuCap(vid_path_h264,-1,check_res,cv.CAP_INTEL_MFX)\n",
    "cpu_time_mfx_1,n_frames = ProcVid0(cpu_cap_mfx)\n",
    "print(f'CPU Quick Sync (no pre alloc): {n_frames} frames, {cpu_time_mfx_1:.2f} ms/frame')"
   ]
  },
  {
   "cell_type": "markdown",
   "metadata": {},
   "source": [
    "<a id=\"gpu\"></a>"
   ]
  },
  {
   "cell_type": "markdown",
   "metadata": {},
   "source": [
    "## GPU"
   ]
  },
  {
   "cell_type": "markdown",
   "metadata": {},
   "source": [
    "Not all GPU's have a hardware decoder, e.g. anything with GM108, see\n",
    "[(1)](https://devtalk.nvidia.com/default/topic/1024934/video-codec-and-optical-flow-sdk/cuvidcreatedecoder-returns-error-cuda_error_no_device/) and \n",
    "[(2)](https://developer.nvidia.com/video-encode-decode-gpu-support-matrix) for discussions."
   ]
  },
  {
   "cell_type": "code",
   "execution_count": 16,
   "metadata": {},
   "outputs": [
    {
     "name": "stdout",
     "output_type": "stream",
     "text": [
      "GPU 0 (no pre alloc): 899 frames, 14.34 ms/frame\n"
     ]
    }
   ],
   "source": [
    "#export\n",
    "gpu_cap_npa = CudaCapNpa(vid_path,-1,check_res)\n",
    "gpu_time_0,n_frames = ProcVid0(gpu_cap_npa)\n",
    "print(f'GPU 0 (no pre alloc): {n_frames} frames, {gpu_time_0:.2f} ms/frame')"
   ]
  },
  {
   "cell_type": "code",
   "execution_count": 17,
   "metadata": {},
   "outputs": [
    {
     "name": "stdout",
     "output_type": "stream",
     "text": [
      "GPU 1: 899 frames, 11.74 ms/frame\n"
     ]
    }
   ],
   "source": [
    "#export\n",
    "gpu_cap = CudaCap(vid_path,-1,check_res)\n",
    "gpu_time_1,n_frames = ProcVid0(gpu_cap)\n",
    "print(f'GPU 1: {n_frames} frames, {gpu_time_1:.2f} ms/frame')"
   ]
  },
  {
   "cell_type": "code",
   "execution_count": 18,
   "metadata": {},
   "outputs": [],
   "source": [
    "if(check_res):\n",
    "    n_frames = min(len(gpu_cap.res),len(gpu_cap_npa.res))\n",
    "    CheckFrames(gpu_cap.res[:n_frames],gpu_cap_npa.res[:n_frames])"
   ]
  },
  {
   "cell_type": "markdown",
   "metadata": {},
   "source": [
    "<a id='opencv_decoding_performance_comparisson'></a>"
   ]
  },
  {
   "cell_type": "markdown",
   "metadata": {},
   "source": [
    "## Results"
   ]
  },
  {
   "cell_type": "code",
   "execution_count": 3,
   "metadata": {},
   "outputs": [
    {
     "data": {
      "text/html": [
       "<style  type=\"text/css\" >\n",
       "</style><table id=\"T_5fd9155c_97e7_11e9_93ad_6c40085859e0\" ><thead>    <tr>        <th class=\"col_heading level0 col0\" >CPU/GPU</th>        <th class=\"col_heading level0 col1\" >Frame Proc Time (ms)</th>    </tr></thead><tbody>\n",
       "                <tr>\n",
       "                                <td id=\"T_5fd9155c_97e7_11e9_93ad_6c40085859e0row0_col0\" class=\"data row0 col0\" >GTX 1060 (pre-alloc)</td>\n",
       "                        <td id=\"T_5fd9155c_97e7_11e9_93ad_6c40085859e0row0_col1\" class=\"data row0 col1\" >7.85</td>\n",
       "            </tr>\n",
       "            <tr>\n",
       "                                <td id=\"T_5fd9155c_97e7_11e9_93ad_6c40085859e0row1_col0\" class=\"data row1 col0\" >HD Graphics 530 (pre-alloc)</td>\n",
       "                        <td id=\"T_5fd9155c_97e7_11e9_93ad_6c40085859e0row1_col1\" class=\"data row1 col1\" >9.27</td>\n",
       "            </tr>\n",
       "            <tr>\n",
       "                                <td id=\"T_5fd9155c_97e7_11e9_93ad_6c40085859e0row2_col0\" class=\"data row2 col0\" >GTX 980M (pre-alloc)</td>\n",
       "                        <td id=\"T_5fd9155c_97e7_11e9_93ad_6c40085859e0row2_col1\" class=\"data row2 col1\" >11.74</td>\n",
       "            </tr>\n",
       "            <tr>\n",
       "                                <td id=\"T_5fd9155c_97e7_11e9_93ad_6c40085859e0row3_col0\" class=\"data row3 col0\" >HD Graphics 4400 (pre-alloc)</td>\n",
       "                        <td id=\"T_5fd9155c_97e7_11e9_93ad_6c40085859e0row3_col1\" class=\"data row3 col1\" >13.97</td>\n",
       "            </tr>\n",
       "            <tr>\n",
       "                                <td id=\"T_5fd9155c_97e7_11e9_93ad_6c40085859e0row4_col0\" class=\"data row4 col0\" >GTX 980M</td>\n",
       "                        <td id=\"T_5fd9155c_97e7_11e9_93ad_6c40085859e0row4_col1\" class=\"data row4 col1\" >14.34</td>\n",
       "            </tr>\n",
       "            <tr>\n",
       "                                <td id=\"T_5fd9155c_97e7_11e9_93ad_6c40085859e0row5_col0\" class=\"data row5 col0\" >HD Graphics 530</td>\n",
       "                        <td id=\"T_5fd9155c_97e7_11e9_93ad_6c40085859e0row5_col1\" class=\"data row5 col1\" >14.73</td>\n",
       "            </tr>\n",
       "            <tr>\n",
       "                                <td id=\"T_5fd9155c_97e7_11e9_93ad_6c40085859e0row6_col0\" class=\"data row6 col0\" >HD Graphics 5500 HDD (pre-alloc)</td>\n",
       "                        <td id=\"T_5fd9155c_97e7_11e9_93ad_6c40085859e0row6_col1\" class=\"data row6 col1\" >18.03</td>\n",
       "            </tr>\n",
       "            <tr>\n",
       "                                <td id=\"T_5fd9155c_97e7_11e9_93ad_6c40085859e0row7_col0\" class=\"data row7 col0\" >i5-6500 (pre-alloc)</td>\n",
       "                        <td id=\"T_5fd9155c_97e7_11e9_93ad_6c40085859e0row7_col1\" class=\"data row7 col1\" >22.01</td>\n",
       "            </tr>\n",
       "            <tr>\n",
       "                                <td id=\"T_5fd9155c_97e7_11e9_93ad_6c40085859e0row8_col0\" class=\"data row8 col0\" >HD Graphics 5500 HDD</td>\n",
       "                        <td id=\"T_5fd9155c_97e7_11e9_93ad_6c40085859e0row8_col1\" class=\"data row8 col1\" >23.74</td>\n",
       "            </tr>\n",
       "            <tr>\n",
       "                                <td id=\"T_5fd9155c_97e7_11e9_93ad_6c40085859e0row9_col0\" class=\"data row9 col0\" >HD Graphics 4400</td>\n",
       "                        <td id=\"T_5fd9155c_97e7_11e9_93ad_6c40085859e0row9_col1\" class=\"data row9 col1\" >23.88</td>\n",
       "            </tr>\n",
       "            <tr>\n",
       "                                <td id=\"T_5fd9155c_97e7_11e9_93ad_6c40085859e0row10_col0\" class=\"data row10 col0\" >i7-6700HQ (pre-alloc)</td>\n",
       "                        <td id=\"T_5fd9155c_97e7_11e9_93ad_6c40085859e0row10_col1\" class=\"data row10 col1\" >23.99</td>\n",
       "            </tr>\n",
       "            <tr>\n",
       "                                <td id=\"T_5fd9155c_97e7_11e9_93ad_6c40085859e0row11_col0\" class=\"data row11 col0\" >i7-6700HQ</td>\n",
       "                        <td id=\"T_5fd9155c_97e7_11e9_93ad_6c40085859e0row11_col1\" class=\"data row11 col1\" >39.39</td>\n",
       "            </tr>\n",
       "            <tr>\n",
       "                                <td id=\"T_5fd9155c_97e7_11e9_93ad_6c40085859e0row12_col0\" class=\"data row12 col0\" >GT 730M (pre-alloc)</td>\n",
       "                        <td id=\"T_5fd9155c_97e7_11e9_93ad_6c40085859e0row12_col1\" class=\"data row12 col1\" >40.64</td>\n",
       "            </tr>\n",
       "            <tr>\n",
       "                                <td id=\"T_5fd9155c_97e7_11e9_93ad_6c40085859e0row13_col0\" class=\"data row13 col0\" >GT 730M</td>\n",
       "                        <td id=\"T_5fd9155c_97e7_11e9_93ad_6c40085859e0row13_col1\" class=\"data row13 col1\" >40.8</td>\n",
       "            </tr>\n",
       "            <tr>\n",
       "                                <td id=\"T_5fd9155c_97e7_11e9_93ad_6c40085859e0row14_col0\" class=\"data row14 col0\" >i5-4210U (pre-alloc)</td>\n",
       "                        <td id=\"T_5fd9155c_97e7_11e9_93ad_6c40085859e0row14_col1\" class=\"data row14 col1\" >47.72</td>\n",
       "            </tr>\n",
       "            <tr>\n",
       "                                <td id=\"T_5fd9155c_97e7_11e9_93ad_6c40085859e0row15_col0\" class=\"data row15 col0\" >i5-4210U</td>\n",
       "                        <td id=\"T_5fd9155c_97e7_11e9_93ad_6c40085859e0row15_col1\" class=\"data row15 col1\" >50.65</td>\n",
       "            </tr>\n",
       "            <tr>\n",
       "                                <td id=\"T_5fd9155c_97e7_11e9_93ad_6c40085859e0row16_col0\" class=\"data row16 col0\" >i5-5200U HDD (pre-alloc)</td>\n",
       "                        <td id=\"T_5fd9155c_97e7_11e9_93ad_6c40085859e0row16_col1\" class=\"data row16 col1\" >51.06</td>\n",
       "            </tr>\n",
       "            <tr>\n",
       "                                <td id=\"T_5fd9155c_97e7_11e9_93ad_6c40085859e0row17_col0\" class=\"data row17 col0\" >i5-5200U HDD</td>\n",
       "                        <td id=\"T_5fd9155c_97e7_11e9_93ad_6c40085859e0row17_col1\" class=\"data row17 col1\" >58.64</td>\n",
       "            </tr>\n",
       "    </tbody></table>"
      ],
      "text/plain": [
       "<pandas.io.formats.style.Styler at 0x1bb03f20e10>"
      ]
     },
     "execution_count": 3,
     "metadata": {},
     "output_type": "execute_result"
    }
   ],
   "source": [
    "results = [['i7-6700HQ', 39.39],['i7-6700HQ (pre-alloc)', 23.99],['i5-6500 (pre-alloc)',22.01],['i5-5200U HDD',58.64],\n",
    "           ['i5-5200U HDD (pre-alloc)',51.06],['HD Graphics 530',14.73],['HD Graphics 530 (pre-alloc)',9.27],\n",
    "           ['HD Graphics 5500 HDD',23.74],['HD Graphics 5500 HDD (pre-alloc)',18.03],['GTX 980M',14.34],\n",
    "          ['GTX 980M (pre-alloc)',11.74],['GTX 1060 (pre-alloc)',7.85],['i5-4210U',50.65],['i5-4210U (pre-alloc)',47.72],\n",
    "           ['GT 730M',40.80],['GT 730M (pre-alloc)',40.64],['HD Graphics 4400',23.88],['HD Graphics 4400 (pre-alloc)',13.97]]\n",
    "df = pd.DataFrame(results,columns=['CPU/GPU','Frame Proc Time (ms)']).sort_values('Frame Proc Time (ms)').round(2)\n",
    "df.style.hide_index()"
   ]
  },
  {
   "cell_type": "markdown",
   "metadata": {},
   "source": [
    "# Export"
   ]
  },
  {
   "cell_type": "code",
   "execution_count": 75,
   "metadata": {},
   "outputs": [
    {
     "name": "stdout",
     "output_type": "stream",
     "text": [
      "Converted opencv410x-video-read.ipynb to exp\\nb_opencv410x-video-read.py\n"
     ]
    }
   ],
   "source": [
    "# taken from https://github.com/fastai/fastai_docs/blob/master/dev_nb/notebook2script.py\n",
    "!python notebook2script.py opencv410x-video-read.ipynb"
   ]
  },
  {
   "cell_type": "code",
   "execution_count": 76,
   "metadata": {},
   "outputs": [
    {
     "name": "stdout",
     "output_type": "stream",
     "text": [
      "CPU 0 (no pre alloc): 900 frames, 37.96 ms/frame\n",
      "CPU 1: 900 frames, 21.88 ms/frame\n",
      "CPU Quick Sync (no pre alloc): 900 frames, 15.31 ms/frame\n",
      "CPU Quick Sync (no pre alloc): 900 frames, 9.97 ms/frame\n",
      "GPU 0 (no pre alloc): 899 frames, 13.84 ms/frame\n",
      "GPU 1: 899 frames, 11.72 ms/frame\n",
      "[ INFO:0] global D:\\SSDBackup\\Dev\\Repos\\opencv_fork_1\\modules\\videoio\\src\\videoio_registry.cpp (187) cv::`anonymous-namespace'::VideoBackendRegistry::VideoBackendRegistry VIDEOIO: Enabled backends(7, sorted by priority): FFMPEG(1000); GSTREAMER(990); INTEL_MFX(980); MSMF(970); DSHOW(960); CV_IMAGES(950); CV_MJPEG(940)\n"
     ]
    }
   ],
   "source": [
    "! python exp/nb_opencv410x-video-read.py"
   ]
  },
  {
   "cell_type": "code",
   "execution_count": null,
   "metadata": {},
   "outputs": [],
   "source": []
  }
 ],
 "metadata": {
  "kernelspec": {
   "display_name": "Python 3",
   "language": "python",
   "name": "python3"
  },
  "language_info": {
   "codemirror_mode": {
    "name": "ipython",
    "version": 3
   },
   "file_extension": ".py",
   "mimetype": "text/x-python",
   "name": "python",
   "nbconvert_exporter": "python",
   "pygments_lexer": "ipython3",
   "version": "3.7.3"
  }
 },
 "nbformat": 4,
 "nbformat_minor": 2
}
